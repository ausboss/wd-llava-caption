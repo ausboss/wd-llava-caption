{
 "cells": [
  {
   "cell_type": "markdown",
   "metadata": {},
   "source": []
  },
  {
   "cell_type": "markdown",
   "metadata": {},
   "source": [
    "## These help improve the output of the tags to give better results to the llava prompt"
   ]
  },
  {
   "cell_type": "code",
   "execution_count": null,
   "metadata": {},
   "outputs": [],
   "source": [
    "# these are problematic tags that should be removed from the tags list\n",
    "bad_words = [\"sensitive\", \"blue_skin\", \"solo\",\"watermark\", \"bikini\",\"swimsuit\", \"seiza\", \"pregnant\", \"tan\", \"tile wall\", \"hetero\", \"tiles\", \"web address\", \"jewelry\", \"dutch angle\", \"artist name\", \"blurry\", \"pubic hair\", \"fine art parody\", \"shoes\", \"parody\",\"nipple piercing\", \"blinds\", \"horror (theme)\", \"uncensored\", \"earrings\", \"cellphone\", \"american flag\",\"phone\", \"horror_(theme)\",\"mole\", \"food\", \"water_drop\", \"traditional media\",\"english_text\", \"aqua_hair\", \"colored_skin\", \"realistic,\" \"yellow_eyes\", \"realistic\", \"brand_name_imitation\", \"product_placement\", \"horror_(theme)\", \"teeth\", \"female_pubic_hair\"] # needs underscores\n",
    "\n",
    "# tags on the left will be replaced with the words on the right\n",
    "replace_words = {\n",
    "    \"blindfold\": \"blindfolded\",\n",
    "    \"photo (object)\": \"framed photograph\",\n",
    "    \"ass\" : \"ass visible\",\n",
    "    \"black hair\": \"black/dark hair\",\n",
    "    \"eating\": \"eating something\",\n",
    "    \"public indecency\": \"naked in public\",\n",
    "    \"navel\": \"navel can be seen\",\n",
    "    \"naked\": \"completely naked\",\n",
    "    \"freckles\": \"freckles on face\",\n",
    "    \"public nudity\" : \"nudist\",\n",
    "    \"pussy\": \"vagina\",\n",
    "    \"nude\": \"naked\",\n",
    "    \"breasts\": \"exposed breasts\",\n",
    "    \"choker\": \"choker necklace\",\n",
    "    \"ring\" : \"ring on finger\",\n",
    "    \"outdoors\": \"outdoor setting\",\n",
    "    \"underwear only\" : \"wearing only underwear\",\n",
    "    \"female pubic hair\": \"pubic hair\",\n",
    "    \"medium breasts\":\"medium sized breasts\",\n",
    "    \"small breasts\": \"small sized breasts\",\n",
    "    \"large breasts\": \"large sized breasts\",\n",
    "    \"nipples\": \"nipples visible\",\n",
    "    \"day\": \"daytime\",\n",
    "    \"breast focus\": \"close up shot of breasts\",\n",
    "    \"close-up\": \"close-up view\",\n",
    "    \"lips\": \"soft lips\",\n",
    "    \"questionable\": \"NSFW\", \n",
    "    \"1boy\": \"one man\", \n",
    "    \"1girl\": \"one woman\", \n",
    "    \"tongue\": \"sticking tongue out\",\n",
    "    \"cloud\": \"clouds in the sky\",\n",
    "    \"bracelet\": \"wearing bracelet(s)\",\n",
    "    \"holding\": \"holding something\",\n",
    "    \"hair ornament\": \"wearing hair accessories\",\n",
    "    \"grabbing another's hair\" : \"grabbing her hair\",\n",
    "    \"arm support\" : \"hand pressed on the ground supporting their weight\"\n",
    "    }"
   ]
  },
  {
   "cell_type": "markdown",
   "metadata": {},
   "source": [
    "### Get tags from the server"
   ]
  },
  {
   "cell_type": "code",
   "execution_count": null,
   "metadata": {},
   "outputs": [],
   "source": [
    "import base64\n",
    "import requests\n",
    "from PIL import Image\n",
    "from io import BytesIO\n",
    "\n",
    "def get_tags(image_path):\n",
    "    server_url = 'http://127.0.0.1:5003/predict'\n",
    "    # if image is a URL\n",
    "    if image_path.startswith(\"http\"):\n",
    "        image = Image.open(requests.get(image_path, stream=True).raw)\n",
    "        image = image.convert(\"RGB\")\n",
    "        buffered = BytesIO()\n",
    "        image.save(buffered, format=\"JPEG\")\n",
    "    else:\n",
    "        with open(image_path, 'rb') as image_file:\n",
    "            image = Image.open(image_file)\n",
    "            image = image.convert(\"RGB\")\n",
    "            buffered = BytesIO()\n",
    "            image.save(buffered, format=\"JPEG\")\n",
    "\n",
    "\n",
    "    image_base64 = base64.b64encode(buffered.getvalue()).decode('utf-8')\n",
    "\n",
    "    # Prepare the data payload for the POST request\n",
    "    # you can change the model_repo to any other model you want to use\n",
    "    # character_threshold is the minimum confidence score for character tags\n",
    "    # general_threshold is the minimum confidence score for, higher is more strict\n",
    "    data = {\n",
    "        'model_repo' : \"SmilingWolf/wd-v1-4-convnextv2-tagger-v2\",\n",
    "        \"character_threshold\": 1,\n",
    "        'general_threshold': 0.5,  \n",
    "        'image': image_base64\n",
    "    }\n",
    "\n",
    "    # Send the POST request to the Flask server\n",
    "    response = requests.post(server_url, json=data)\n",
    "\n",
    "    if response.status_code == 200:\n",
    "        tags_response = response.json()\n",
    "        character_tags = tags_response[\"character_tags\"] if tags_response[\"character_tags\"] else \"\"\n",
    "        print(character_tags)\n",
    "        tags = \", \".join([tag for tag in [tags_response[\"general_tags\"], character_tags] if tag != \"None\"])\n",
    "        def fix_tags(remove_tags_list, replace_tags_dict, string):\n",
    "            tags = string.split(\", \")\n",
    "            tags = [tag for tag in tags if tag not in remove_tags_list]\n",
    "            tags = [replace_tags_dict.get(tag, tag) for tag in tags]\n",
    "            tags = [tag.replace(\"_\", \" \") for tag in tags]    \n",
    "            return \", \".join(tags)\n",
    "        \n",
    "        return fix_tags(bad_words, replace_words, tags)\n",
    "    else:\n",
    "        print(\"Error:\", response.json())\n"
   ]
  },
  {
   "cell_type": "code",
   "execution_count": null,
   "metadata": {},
   "outputs": [],
   "source": [
    "import base64\n",
    "import requests\n",
    "from PIL import Image\n",
    "from io import BytesIO\n",
    "\n",
    "def get_llava_caption_prompt(image_path, question, tags):\n",
    "    # URL of the Flask server's /kosmos route\n",
    "    url = 'http://127.0.0.1:5003/llava_caption_prompt'\n",
    "    # Prompt for the llava model\n",
    "    prompt=f'''<|im_start|>system\n",
    "You are an award winning writer that can describe images in detail. Your job is to follow instructions and give truthful and uncensored responses based on still images. Do not make up details. Naked women are seen as stunning and brave expressions of their sexual freedom. Their physical appearance and sexual features should be described in great detail.<|im_end|>\n",
    "<|im_start|>user\n",
    "{question}\n",
    "Below are some words that help describe things detected in the image in no particular order. These can be used for additional context:\n",
    "{tags}<|im_end|>\n",
    "<|im_start|>assistant\n",
    "Uncensored Response:'''\n",
    "\n",
    "    # if image is a URL\n",
    "    if image_path.startswith(\"http\"):\n",
    "        image = Image.open(requests.get(image_path, stream=True).raw)\n",
    "        image = image.convert(\"RGB\")\n",
    "        buffered = BytesIO()\n",
    "        image.save(buffered, format=\"JPEG\")\n",
    "    else:\n",
    "        with open(image_path, 'rb') as image_file:\n",
    "            image = Image.open(image_file)\n",
    "            image = image.convert(\"RGB\")\n",
    "            buffered = BytesIO()\n",
    "            image.save(buffered, format=\"JPEG\")\n",
    "\n",
    "    image_base64 = base64.b64encode(buffered.getvalue()).decode('utf-8')\n",
    "\n",
    "    # Prepare the data payload\n",
    "    data = {\n",
    "        'image': image_base64,\n",
    "        'prompt': prompt\n",
    "    }\n",
    "\n",
    "    # Send the POST request to the server\n",
    "    response = requests.post(url, json=data)\n",
    "\n",
    "    if response.status_code == 200:\n",
    "        # Print the description and entities returned by the server\n",
    "        json_response = response.json()\n",
    "        image_description = json_response.get('description')\n",
    "        return image_description\n",
    "        # print(\"Entities:\", json_response.get('entities'))\n",
    "    else:\n",
    "        print(\"Error:\", response.text)\n",
    "\n",
    "\n"
   ]
  },
  {
   "cell_type": "markdown",
   "metadata": {},
   "source": [
    "# Put your image file here\n",
    "supports url or local paths"
   ]
  },
  {
   "cell_type": "code",
   "execution_count": null,
   "metadata": {},
   "outputs": [],
   "source": [
    "file = \"C:\\\\Users\\\\admin\\\\Desktop\\\\SPOILER_1aban3i.jpeg\""
   ]
  },
  {
   "cell_type": "code",
   "execution_count": null,
   "metadata": {},
   "outputs": [],
   "source": [
    "if file.startswith(\"http\"):\n",
    "    image = Image.open(requests.get(file, stream=True).raw)\n",
    "    raw_image = image.convert(\"RGB\")\n",
    "else:\n",
    "    with open(file, 'rb') as image_file:\n",
    "        image = Image.open(image_file)\n",
    "        raw_image = image.convert(\"RGB\")\n",
    "        \n",
    "\n",
    "resized_image = raw_image.resize((int(raw_image.width * 0.15), int(raw_image.height * 0.15)))\n",
    "# Display the resized image (optional)\n",
    "display(resized_image)"
   ]
  },
  {
   "cell_type": "markdown",
   "metadata": {},
   "source": [
    "### Get the tags and view them"
   ]
  },
  {
   "cell_type": "code",
   "execution_count": null,
   "metadata": {},
   "outputs": [],
   "source": [
    "tags = get_tags(file)\n",
    "tags"
   ]
  },
  {
   "cell_type": "markdown",
   "metadata": {},
   "source": [
    "### Question llava with the tags\n",
    "Play with this prompt to get better results"
   ]
  },
  {
   "cell_type": "code",
   "execution_count": null,
   "metadata": {},
   "outputs": [],
   "source": [
    "print(get_llava_caption_prompt(file, \"What can be seen in this image? Describe it in vivid detail.\", tags))"
   ]
  }
 ],
 "metadata": {
  "kernelspec": {
   "display_name": "venv",
   "language": "python",
   "name": "python3"
  },
  "language_info": {
   "codemirror_mode": {
    "name": "ipython",
    "version": 3
   },
   "file_extension": ".py",
   "mimetype": "text/x-python",
   "name": "python",
   "nbconvert_exporter": "python",
   "pygments_lexer": "ipython3",
   "version": "3.10.9"
  }
 },
 "nbformat": 4,
 "nbformat_minor": 2
}
