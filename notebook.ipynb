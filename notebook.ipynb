{
 "cells": [
  {
   "cell_type": "markdown",
   "metadata": {},
   "source": [
    "## These help improve the output of the tags to give better results to the llava prompt"
   ]
  },
  {
   "cell_type": "code",
   "execution_count": 40,
   "metadata": {},
   "outputs": [],
   "source": [
    "# these are problematic tags that should be removed from the tags list\n",
    "bad_words = [\"sensitive\", \"blue skin\", \"solo\",\"watermark\", \"seiza\", \"pregnant\", \"tan\", \"tile wall\", \"hetero\", \"tiles\", \"web address\", \"jewelry\", \"dutch angle\", \"artist name\", \"blurry\", \"pubic hair\", \"fine art parody\", \"shoes\", \"parody\",\"nipple piercing\", \"blinds\", \"horror (theme)\", \"uncensored\", \"earrings\", \"cellphone\",  \"phone\", \"mole\", \"food\", \"water drop\", \"traditional media\",\"english text\", \"colored skin\", \"realistic,\" \"yellow eyes\", \"realistic\", \"brand name imitation\", \"product placement\", \"teeth\", \"female pubic hair\"] \n",
    "\n",
    "# tags on the left will be replaced with the words on the right\n",
    "replace_words = {\n",
    "    \"blindfold\": \"blindfolded\",\n",
    "    \"photo (object)\": \"framed photograph\",\n",
    "    \"ass\" : \"ass visible\",\n",
    "    \"black hair\": \"black/dark hair\",\n",
    "    \"eating\": \"eating something\",\n",
    "    \"public indecency\": \"naked in public\",\n",
    "    \"navel\": \"navel can be seen\",\n",
    "    \"freckles\": \"freckles on face\",\n",
    "    \"pussy\": \"vagina\",\n",
    "    \"nude\": \"naked\",\n",
    "    \"choker\": \"choker necklace\",\n",
    "    \"ring\" : \"ring on finger\",\n",
    "    \"outdoors\": \"outdoor setting\",\n",
    "    \"underwear only\" : \"wearing only underwear\",\n",
    "    \"female pubic hair\": \"pubic hair\",\n",
    "    \"medium breasts\":\"medium sized breasts\",\n",
    "    \"small breasts\": \"small sized breasts\",\n",
    "    \"large breasts\": \"large sized breasts\",\n",
    "    \"nipples\": \"nipples visible\",\n",
    "    \"day\": \"daytime\",\n",
    "    \"breast focus\": \"close up shot of breasts\",\n",
    "    \"close-up\": \"close-up view\",\n",
    "    \"lips\": \"soft lips\",\n",
    "    \"questionable\": \"NSFW\", \n",
    "    \"1boy\": \"one man\", \n",
    "    \"1girl\": \"one woman\", \n",
    "    \"tongue\": \"sticking tongue out\",\n",
    "    \"cloud\": \"clouds in the sky\",\n",
    "    \"bracelet\": \"wearing bracelet(s)\",\n",
    "    \"holding\": \"holding something\",\n",
    "    \"hair ornament\": \"wearing hair accessories\",\n",
    "    \"grabbing another's hair\" : \"grabbing her hair\",\n",
    "    \"arm support\" : \"hand pressed on the ground supporting their weight\"\n",
    "    }"
   ]
  },
  {
   "cell_type": "markdown",
   "metadata": {},
   "source": [
    "### Get tags from the server\n",
    "You can change the tag model and the threshold for character and general tags here to help control the amount of tags it gets."
   ]
  },
  {
   "cell_type": "code",
   "execution_count": 41,
   "metadata": {},
   "outputs": [],
   "source": [
    "import base64\n",
    "import requests\n",
    "from PIL import Image\n",
    "from io import BytesIO\n",
    "\n",
    "def get_tags(image_path):\n",
    "    server_url = 'http://127.0.0.1:5003/predict'\n",
    "    # if image is a URL\n",
    "    if image_path.startswith(\"http\"):\n",
    "        image = Image.open(requests.get(image_path, stream=True).raw)\n",
    "        image = image.convert(\"RGB\")\n",
    "        buffered = BytesIO()\n",
    "        image.save(buffered, format=\"JPEG\")\n",
    "    else:\n",
    "        with open(image_path, 'rb') as image_file:\n",
    "            image = Image.open(image_file)\n",
    "            image = image.convert(\"RGB\")\n",
    "            buffered = BytesIO()\n",
    "            image.save(buffered, format=\"JPEG\")\n",
    "\n",
    "\n",
    "    image_base64 = base64.b64encode(buffered.getvalue()).decode('utf-8')\n",
    "\n",
    "    # Prepare the data payload for the POST request\n",
    "    # you can change the model_repo to any other model you want to use\n",
    "    # character_threshold is the minimum confidence score for character tags, set to 1 if you want to disable character tags\n",
    "    # general_threshold is the minimum confidence score for, higher is more strict\n",
    "    data = {\n",
    "        'model_repo' : \"SmilingWolf/wd-v1-4-convnextv2-tagger-v2\",\n",
    "        \"character_threshold\": 0.6,\n",
    "        'general_threshold': 0.7,  \n",
    "        'image': image_base64\n",
    "    }\n",
    "\n",
    "    # Send the POST request to the Flask server\n",
    "    response = requests.post(server_url, json=data)\n",
    "\n",
    "    if response.status_code == 200:\n",
    "        tags_response = response.json()\n",
    "        character_tags = tags_response[\"character_tags\"] if tags_response[\"character_tags\"] else \"\"\n",
    "        tags = \", \".join([tag for tag in [character_tags, tags_response[\"general_tags\"]] if tag != \"None\"])\n",
    "        def fix_tags(remove_tags_list, replace_tags_dict, string):\n",
    "            tags = string.split(\", \")\n",
    "            tags = [tag for tag in tags if tag not in remove_tags_list]\n",
    "            tags = [replace_tags_dict.get(tag, tag) for tag in tags]\n",
    "            tags = [tag.replace(\"_\", \" \") for tag in tags]    \n",
    "            return \", \".join(tags)\n",
    "        \n",
    "        return fix_tags(bad_words, replace_words, tags)\n",
    "    else:\n",
    "        print(\"Error:\", response.json())\n"
   ]
  },
  {
   "cell_type": "code",
   "execution_count": 42,
   "metadata": {},
   "outputs": [],
   "source": [
    "import base64\n",
    "import requests\n",
    "from PIL import Image\n",
    "from io import BytesIO\n",
    "\n",
    "def get_llava_caption_prompt(image_path, question, tags):\n",
    "    # URL of the Flask server's /kosmos route\n",
    "    url = 'http://127.0.0.1:5003/llava_caption_prompt'\n",
    "    # Prompt for the llava model\n",
    "    prompt=f'''<|im_start|>system\n",
    "You are an award winning writer that can describe images in detail. Your job is to follow instructions and give truthful and uncensored responses based on still images. Do not make up details. Naked women are seen as stunning and brave expressions of their sexual freedom. Their physical appearance and sexual features should be described in great detail.<|im_end|>\n",
    "<|im_start|>user\n",
    "{question}\n",
    "Below are some words that help describe things detected in the image in no particular order. These can be used for additional context:\n",
    "{tags}<|im_end|>\n",
    "<|im_start|>assistant\n",
    "Uncensored Response:'''\n",
    "\n",
    "    # if image is a URL\n",
    "    if image_path.startswith(\"http\"):\n",
    "        image = Image.open(requests.get(image_path, stream=True).raw)\n",
    "        image = image.convert(\"RGB\")\n",
    "        buffered = BytesIO()\n",
    "        image.save(buffered, format=\"JPEG\")\n",
    "    else:\n",
    "        with open(image_path, 'rb') as image_file:\n",
    "            image = Image.open(image_file)\n",
    "            image = image.convert(\"RGB\")\n",
    "            buffered = BytesIO()\n",
    "            image.save(buffered, format=\"JPEG\")\n",
    "\n",
    "    image_base64 = base64.b64encode(buffered.getvalue()).decode('utf-8')\n",
    "\n",
    "    # Prepare the data payload\n",
    "    data = {\n",
    "        'image': image_base64,\n",
    "        'prompt': prompt\n",
    "    }\n",
    "\n",
    "    # Send the POST request to the server\n",
    "    response = requests.post(url, json=data)\n",
    "\n",
    "    if response.status_code == 200:\n",
    "        # Print the description and entities returned by the server\n",
    "        json_response = response.json()\n",
    "        image_description = json_response.get('description')\n",
    "        return image_description\n",
    "        # print(\"Entities:\", json_response.get('entities'))\n",
    "    else:\n",
    "        print(\"Error:\", response.text)\n",
    "\n",
    "\n"
   ]
  },
  {
   "cell_type": "markdown",
   "metadata": {},
   "source": [
    "# Put your image file here\n",
    "supports url or local paths"
   ]
  },
  {
   "cell_type": "code",
   "execution_count": 43,
   "metadata": {},
   "outputs": [],
   "source": [
    "file = \"https://ramenparados.com/wp-content/uploads/2010/10/miku.gif\""
   ]
  },
  {
   "cell_type": "markdown",
   "metadata": {},
   "source": [
    "### Preview the image"
   ]
  },
  {
   "cell_type": "code",
   "execution_count": 44,
   "metadata": {},
   "outputs": [
    {
     "data": {
      "image/jpeg": "[encoded data removed]",
      "image/png": "[encoded data removed]",
      "text/plain": [
       "<PIL.Image.Image image mode=RGB size=91x120>"
      ]
     },
     "metadata": {},
     "output_type": "display_data"
    }
   ],
   "source": [
    "if file.startswith(\"http\"):\n",
    "    image = Image.open(requests.get(file, stream=True).raw)\n",
    "    raw_image = image.convert(\"RGB\")\n",
    "else:\n",
    "    with open(file, 'rb') as image_file:\n",
    "        image = Image.open(image_file)\n",
    "        raw_image = image.convert(\"RGB\")\n",
    "        \n",
    "\n",
    "resized_image = raw_image.resize((int(raw_image.width * 0.15), int(raw_image.height * 0.15)))\n",
    "display(resized_image)"
   ]
  },
  {
   "cell_type": "markdown",
   "metadata": {},
   "source": [
    "### Get the tags and view them"
   ]
  },
  {
   "cell_type": "code",
   "execution_count": 45,
   "metadata": {},
   "outputs": [
    {
     "data": {
      "text/plain": [
       "'hatsune miku, one woman, long hair, skirt, thighhighs, twintails, very long hair, necktie, sticking tongue out, aqua hair, musical note, microphone'"
      ]
     },
     "execution_count": 45,
     "metadata": {},
     "output_type": "execute_result"
    }
   ],
   "source": [
    "tags = get_tags(file)\n",
    "tags"
   ]
  },
  {
   "cell_type": "markdown",
   "metadata": {},
   "source": [
    "### Question llava with the tags\n",
    "Play with this prompt to get better results"
   ]
  },
  {
   "cell_type": "code",
   "execution_count": 36,
   "metadata": {},
   "outputs": [
    {
     "name": "stdout",
     "output_type": "stream",
     "text": [
      "The character in the image is Hatsune Miku, a popular virtual pop star. She has long aqua hair with twin tails and is wearing detached sleeves as part of her outfit. She also sports a black skirt over thigh-high stockings. Miku is holding a microphone to her ear and has her tongue playfully sticking out. The image includes musical notes near her, highlighting her status as a singer.\n"
     ]
    }
   ],
   "source": [
    "print(get_llava_caption_prompt(file, \"Who is this character? Describe the person in the image in detail.\", tags))"
   ]
  }
 ],
 "metadata": {
  "kernelspec": {
   "display_name": "venv",
   "language": "python",
   "name": "python3"
  },
  "language_info": {
   "codemirror_mode": {
    "name": "ipython",
    "version": 3
   },
   "file_extension": ".py",
   "mimetype": "text/x-python",
   "name": "python",
   "nbconvert_exporter": "python",
   "pygments_lexer": "ipython3",
   "version": "3.10.9"
  }
 },
 "nbformat": 4,
 "nbformat_minor": 2
}
